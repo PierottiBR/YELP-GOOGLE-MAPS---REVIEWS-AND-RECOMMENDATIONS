{
 "cells": [
  {
   "cell_type": "code",
   "execution_count": 2,
   "metadata": {},
   "outputs": [],
   "source": [
    "import json\n",
    "import pandas as pd"
   ]
  },
  {
   "cell_type": "code",
   "execution_count": 3,
   "metadata": {},
   "outputs": [],
   "source": [
    "archivo = open(\"datasets/google_local/1.json\", \"r\")\n",
    "lista = []\n",
    "\n",
    "for linea in archivo:\n",
    "    linea = linea.strip() # Eliminar caracteres no deseados\n",
    "    diccionario = json.loads(linea) # Convertir la cadena JSON en un diccionario\n",
    "    lista.append(diccionario) # Agregar el diccionario a la lista\n",
    "\n",
    "archivo.close()\n",
    "\n",
    "glocal_1 = pd.DataFrame(lista)\n",
    "\n",
    "archivo = open(\"datasets/google_local/2.json\", \"r\")\n",
    "lista = []\n",
    "\n",
    "for linea in archivo:\n",
    "    linea = linea.strip() # Eliminar caracteres no deseados\n",
    "    diccionario = json.loads(linea) # Convertir la cadena JSON en un diccionario\n",
    "    lista.append(diccionario) # Agregar el diccionario a la lista\n",
    "\n",
    "archivo.close()\n",
    "\n",
    "glocal_2 = pd.DataFrame(lista)\n",
    "\n",
    "archivo = open(\"datasets/google_local/3.json\", \"r\")\n",
    "lista = []\n",
    "\n",
    "for linea in archivo:\n",
    "    linea = linea.strip() # Eliminar caracteres no deseados\n",
    "    diccionario = json.loads(linea) # Convertir la cadena JSON en un diccionario\n",
    "    lista.append(diccionario) # Agregar el diccionario a la lista\n",
    "\n",
    "archivo.close()\n",
    "\n",
    "glocal_3 = pd.DataFrame(lista)\n",
    "\n",
    "archivo = open(\"datasets/google_local/4.json\", \"r\")\n",
    "lista = []\n",
    "\n",
    "for linea in archivo:\n",
    "    linea = linea.strip() # Eliminar caracteres no deseados\n",
    "    diccionario = json.loads(linea) # Convertir la cadena JSON en un diccionario\n",
    "    lista.append(diccionario) # Agregar el diccionario a la lista\n",
    "\n",
    "archivo.close()\n",
    "\n",
    "glocal_4 = pd.DataFrame(lista)\n",
    "\n",
    "archivo = open(\"datasets/google_local/5.json\", \"r\")\n",
    "lista = []\n",
    "\n",
    "for linea in archivo:\n",
    "    linea = linea.strip() # Eliminar caracteres no deseados\n",
    "    diccionario = json.loads(linea) # Convertir la cadena JSON en un diccionario\n",
    "    lista.append(diccionario) # Agregar el diccionario a la lista\n",
    "\n",
    "archivo.close()\n",
    "\n",
    "glocal_5 = pd.DataFrame(lista)\n",
    "\n",
    "archivo = open(\"datasets/google_local/6.json\", \"r\")\n",
    "lista = []\n",
    "\n",
    "for linea in archivo:\n",
    "    linea = linea.strip() # Eliminar caracteres no deseados\n",
    "    diccionario = json.loads(linea) # Convertir la cadena JSON en un diccionario\n",
    "    lista.append(diccionario) # Agregar el diccionario a la lista\n",
    "\n",
    "archivo.close()\n",
    "\n",
    "glocal_6 = pd.DataFrame(lista)\n",
    "\n",
    "archivo = open(\"datasets/google_local/7.json\", \"r\")\n",
    "lista = []\n",
    "\n",
    "for linea in archivo:\n",
    "    linea = linea.strip() # Eliminar caracteres no deseados\n",
    "    diccionario = json.loads(linea) # Convertir la cadena JSON en un diccionario\n",
    "    lista.append(diccionario) # Agregar el diccionario a la lista\n",
    "\n",
    "archivo.close()\n",
    "\n",
    "glocal_7 = pd.DataFrame(lista)\n",
    "\n",
    "archivo = open(\"datasets/google_local/8.json\", \"r\")\n",
    "lista = []\n",
    "\n",
    "for linea in archivo:\n",
    "    linea = linea.strip() # Eliminar caracteres no deseados\n",
    "    diccionario = json.loads(linea) # Convertir la cadena JSON en un diccionario\n",
    "    lista.append(diccionario) # Agregar el diccionario a la lista\n",
    "\n",
    "archivo.close()\n",
    "\n",
    "glocal_8 = pd.DataFrame(lista)\n",
    "\n",
    "archivo = open(\"datasets/google_local/9.json\", \"r\")\n",
    "lista = []\n",
    "\n",
    "for linea in archivo:\n",
    "    linea = linea.strip() # Eliminar caracteres no deseados\n",
    "    diccionario = json.loads(linea) # Convertir la cadena JSON en un diccionario\n",
    "    lista.append(diccionario) # Agregar el diccionario a la lista\n",
    "\n",
    "archivo.close()\n",
    "\n",
    "glocal_9 = pd.DataFrame(lista)\n",
    "\n",
    "archivo = open(\"datasets/google_local/10.json\", \"r\")\n",
    "lista = []\n",
    "\n",
    "for linea in archivo:\n",
    "    linea = linea.strip() # Eliminar caracteres no deseados\n",
    "    diccionario = json.loads(linea) # Convertir la cadena JSON en un diccionario\n",
    "    lista.append(diccionario) # Agregar el diccionario a la lista\n",
    "\n",
    "archivo.close()\n",
    "\n",
    "glocal_10 = pd.DataFrame(lista)\n",
    "\n",
    "archivo = open(\"datasets/google_local/11.json\", \"r\")\n",
    "lista = []\n",
    "\n",
    "for linea in archivo:\n",
    "    linea = linea.strip() # Eliminar caracteres no deseados\n",
    "    diccionario = json.loads(linea) # Convertir la cadena JSON en un diccionario\n",
    "    lista.append(diccionario) # Agregar el diccionario a la lista\n",
    "\n",
    "archivo.close()\n",
    "\n",
    "glocal_11 = pd.DataFrame(lista)"
   ]
  },
  {
   "cell_type": "code",
   "execution_count": null,
   "metadata": {},
   "outputs": [],
   "source": [
    "google_locals = pd.concat([glocal_1,glocal_2,glocal_3,glocal_4,glocal_5,glocal_6,glocal_7,glocal_8,glocal_9,glocal_10,glocal_11],axis=0)\n",
    "google_locals = google_locals.reset_index(drop=True)"
   ]
  },
  {
   "cell_type": "code",
   "execution_count": 6,
   "metadata": {},
   "outputs": [],
   "source": [
    "california_reviews = pd.read_parquet(\"datasets/reviews_parquet/california_reviews.parquet\")\n",
    "florida_reviews = pd.read_parquet(\"datasets/reviews_parquet/florida_reviews.parquet\")\n",
    "illinois_reviews = pd.read_parquet(\"datasets/reviews_parquet/illinois_reviews.parquet\")\n",
    "newyork_reviews = pd.read_parquet(\"datasets/reviews_parquet/nuevayork_reviews.parquet\")\n",
    "texas_reviews = pd.read_parquet(\"datasets/reviews_parquet/texas_reviews.parquet\")\n",
    "washington_reviews = pd.read_parquet(\"datasets/reviews_parquet/washington_reviews.parquet\")"
   ]
  },
  {
   "cell_type": "code",
   "execution_count": 7,
   "metadata": {},
   "outputs": [],
   "source": [
    "gmap_california = california_reviews[\"gmap_id\"]\n",
    "gmap_florida = florida_reviews[\"gmap_id\"]\n",
    "gmap_illinois = illinois_reviews[\"gmap_id\"]\n",
    "gmap_newyork = newyork_reviews[\"gmap_id\"]\n",
    "gmap_texas = texas_reviews[\"gmap_id\"]\n",
    "gmap_washington = washington_reviews[\"gmap_id\"]"
   ]
  },
  {
   "cell_type": "code",
   "execution_count": 8,
   "metadata": {},
   "outputs": [],
   "source": [
    "gmap = pd.concat([gmap_newyork, gmap_california, gmap_florida, gmap_illinois, gmap_texas, gmap_washington],axis=0)\n",
    "gmap = gmap.reset_index(drop=True)"
   ]
  },
  {
   "cell_type": "code",
   "execution_count": 9,
   "metadata": {},
   "outputs": [],
   "source": [
    "google_locals = google_locals[google_locals['gmap_id'].isin(gmap)]\n",
    "google_locals = google_locals.reset_index(drop=True)\n",
    "google_locals.info()"
   ]
  },
  {
   "cell_type": "code",
   "execution_count": 12,
   "metadata": {},
   "outputs": [],
   "source": [
    "del google_locals[\"price\"]\n",
    "del google_locals[\"state\"]\n",
    "del google_locals[\"address\"]\n",
    "del google_locals[\"url\"]\n",
    "del google_locals[\"description\"]"
   ]
  },
  {
   "cell_type": "code",
   "execution_count": 14,
   "metadata": {},
   "outputs": [],
   "source": [
    "google_locals = google_locals.drop_duplicates(subset=['gmap_id'])"
   ]
  },
  {
   "cell_type": "code",
   "execution_count": 15,
   "metadata": {},
   "outputs": [
    {
     "name": "stdout",
     "output_type": "stream",
     "text": [
      "<class 'pandas.core.frame.DataFrame'>\n",
      "Index: 346707 entries, 0 to 351184\n",
      "Data columns (total 10 columns):\n",
      " #   Column            Non-Null Count   Dtype  \n",
      "---  ------            --------------   -----  \n",
      " 0   name              346703 non-null  object \n",
      " 1   gmap_id           346707 non-null  object \n",
      " 2   latitude          346707 non-null  float64\n",
      " 3   longitude         346707 non-null  float64\n",
      " 4   category          346444 non-null  object \n",
      " 5   avg_rating        346707 non-null  float64\n",
      " 6   num_of_reviews    346707 non-null  int64  \n",
      " 7   hours             300254 non-null  object \n",
      " 8   MISC              310384 non-null  object \n",
      " 9   relative_results  329493 non-null  object \n",
      "dtypes: float64(3), int64(1), object(6)\n",
      "memory usage: 29.1+ MB\n"
     ]
    }
   ],
   "source": [
    "google_locals.info()"
   ]
  },
  {
   "cell_type": "code",
   "execution_count": 16,
   "metadata": {},
   "outputs": [],
   "source": [
    "google_locals.to_parquet(\"datasets/metadata_parquet/google_locals.parquet\")"
   ]
  }
 ],
 "metadata": {
  "kernelspec": {
   "display_name": "Python 3",
   "language": "python",
   "name": "python3"
  },
  "language_info": {
   "codemirror_mode": {
    "name": "ipython",
    "version": 3
   },
   "file_extension": ".py",
   "mimetype": "text/x-python",
   "name": "python",
   "nbconvert_exporter": "python",
   "pygments_lexer": "ipython3",
   "version": "3.11.5"
  }
 },
 "nbformat": 4,
 "nbformat_minor": 2
}
